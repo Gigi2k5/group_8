{
 "cells": [
  {
   "cell_type": "code",
   "execution_count": 1,
   "metadata": {},
   "outputs": [
    {
     "name": "stderr",
     "output_type": "stream",
     "text": [
      "c:\\Users\\dohme\\AppData\\Local\\Programs\\Python\\Python311\\Lib\\site-packages\\tqdm\\auto.py:21: TqdmWarning: IProgress not found. Please update jupyter and ipywidgets. See https://ipywidgets.readthedocs.io/en/stable/user_install.html\n",
      "  from .autonotebook import tqdm as notebook_tqdm\n"
     ]
    }
   ],
   "source": [
    "import tkinter as tk\n",
    "from tkinter import *\n",
    "from diffusers import StableDiffusionPipeline\n",
    "from PIL import Image, ImageTk\n",
    "\n",
    "# Création de la fenêtre principale\n",
    "fenetre = Tk()\n",
    "fenetre.geometry('600x600')\n",
    "fenetre.title('OrdiRoutier - Tkinter generateImage')\n",
    "fenetre['bg'] = 'white'\n",
    "fenetre.resizable(height=False, width=False)\n",
    "\n",
    "# Chargement et affichage de l'image principale\n",
    "photo = PhotoImage(file='home1.png')\n",
    "label = Label(fenetre, image=photo)\n",
    "label.place(x=120, y=90)\n",
    "\n",
    "message_photo = PhotoImage(file='message3.png')\n",
    "message_label = Label(fenetre, image=message_photo, bg='white')  # Utilisez bg='white' si nécessaire\n",
    "message_label.place(x=120, y=90) \n",
    "\n",
    "# Fonction pour créer une nouvelle fenêtre\n",
    "def nouvelle_fenetre():\n",
    "    Nfenetre = Toplevel(fenetre)  # Utiliser Toplevel pour éviter plusieurs instances de Tk()\n",
    "    Nfenetre.geometry('500x500')\n",
    "    Nfenetre.title('OrdiRoutier - Nouvelle Fenêtre')\n",
    "    Nfenetre['bg'] = 'white'\n",
    "    Nfenetre.resizable(height=False, width=False)\n",
    "    \n",
    "    ma_variable = StringVar()  \n",
    "    label = Label(Nfenetre, text=\"Que voulez-vous créer ?\",font=(\"Bartender and Cocktail\",10) ,fg='black', bg='white')\n",
    "    label.place(x=20, y=10)\n",
    "    entree = Entry(Nfenetre, textvariable=ma_variable)\n",
    "    entree.place(x=20, y=35, width=300)\n",
    "    # Création d'un conteneur pour les images générées avec un fond gris\n",
    "    image_frame = Frame(Nfenetre, bg='gray', width=460, height=400)\n",
    "    image_frame.place(x=20, y=80)\n",
    "    def image_generate():\n",
    "        pipe = StableDiffusionPipeline.from_pretrained(\"hf-internal-testing/tiny-stable-diffusion-torch\")\n",
    "        prompt = ma_variable.get()\n",
    "        image = pipe(prompt).images[0]\n",
    "        image.save(\"generated_image.png\")\n",
    "        \n",
    "        # Charger et afficher l'image générée\n",
    "        generated_image = Image.open(\"generated_image.png\")\n",
    "        generated_image = generated_image.resize((460, 400), Image.ANTIALIAS)  # Redimensionner si nécessaire\n",
    "        photo = ImageTk.PhotoImage(generated_image)\n",
    "        image_label = Label(image_frame, image=photo)\n",
    "        image_label.image = photo  # Conserver une référence à l'image\n",
    "        image_label.pack()\n",
    "    bouton = Button(Nfenetre, text=\"Generate\", command=image_generate, bg='black', fg='white',font=(\"Bartender and Cocktail\",15,\"italic\"))\n",
    "    bouton.place(x=330, y=30)\n",
    "\n",
    "\n",
    "\n",
    "\n",
    "# Chargement de l'image du bouton\n",
    "BouttonImg = PhotoImage(file='button.png')\n",
    "# Création du bouton avec l'image et la commande\n",
    "bouton = Button(fenetre, image=BouttonImg, borderwidth=0, highlightthickness=0, command=nouvelle_fenetre)\n",
    "bouton.place(x='10', y='395')\n",
    "\n",
    "# Boucle principale de la fenêtre\n",
    "fenetre.mainloop()\n"
   ]
  },
  {
   "cell_type": "code",
   "execution_count": null,
   "metadata": {},
   "outputs": [],
   "source": []
  },
  {
   "cell_type": "code",
   "execution_count": null,
   "metadata": {},
   "outputs": [],
   "source": []
  },
  {
   "cell_type": "code",
   "execution_count": null,
   "metadata": {},
   "outputs": [],
   "source": []
  }
 ],
 "metadata": {
  "kernelspec": {
   "display_name": "Python 3",
   "language": "python",
   "name": "python3"
  },
  "language_info": {
   "codemirror_mode": {
    "name": "ipython",
    "version": 3
   },
   "file_extension": ".py",
   "mimetype": "text/x-python",
   "name": "python",
   "nbconvert_exporter": "python",
   "pygments_lexer": "ipython3",
   "version": "3.11.4"
  }
 },
 "nbformat": 4,
 "nbformat_minor": 2
}
